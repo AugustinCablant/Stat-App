{
 "cells": [
  {
   "cell_type": "code",
   "execution_count": null,
   "id": "9560185a-2f70-4f0a-9383-9490c777e747",
   "metadata": {},
   "outputs": [],
   "source": [
    "import pandas as pd\n",
    "import numpy as np\n",
    "import matplotlib.pyplot as plt\n",
    "import os\n",
    "os.chdir('/Users/augustincablant/Documents/GitHub/Stat-App/Notebooks')\n",
    "\n",
    "os.chdir('/Users/augustincablant/Documents/GitHub/Stat-App')\n",
    "df = pd.read_csv('DATA/dataset2_90_05.csv')\n",
    "columns = ['North America', 'Central America', 'South America', 'North Africa', 'Sub-Saharan Africa', 'Northern Europe', 'Western Europe', \n",
    "               'Southern Europe', 'Eastern Europe', 'Central Asia', 'Western Asia', 'South Asia', 'East Asia', 'South-East Asia', 'Oceania']\n",
    "df.index = columns\n",
    "df = df[columns] \n"
   ]
  }
 ],
 "metadata": {
  "kernelspec": {
   "display_name": "Python 3 (ipykernel)",
   "language": "python",
   "name": "python3"
  },
  "language_info": {
   "codemirror_mode": {
    "name": "ipython",
    "version": 3
   },
   "file_extension": ".py",
   "mimetype": "text/x-python",
   "name": "python",
   "nbconvert_exporter": "python",
   "pygments_lexer": "ipython3",
   "version": "3.10.13"
  }
 },
 "nbformat": 4,
 "nbformat_minor": 5
}
