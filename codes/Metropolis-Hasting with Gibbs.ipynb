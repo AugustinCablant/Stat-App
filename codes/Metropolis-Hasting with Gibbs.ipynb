{
 "cells": [
  {
   "cell_type": "markdown",
   "metadata": {},
   "source": [
    "#### Import des données pour les continents"
   ]
  },
  {
   "cell_type": "code",
   "execution_count": 1,
   "metadata": {},
   "outputs": [
    {
     "name": "stderr",
     "output_type": "stream",
     "text": [
      "/Users/y.boukhateb/anaconda3/lib/python3.11/site-packages/pandas/core/arrays/masked.py:60: UserWarning: Pandas requires version '1.3.6' or newer of 'bottleneck' (version '1.3.5' currently installed).\n",
      "  from pandas.core import (\n"
     ]
    },
    {
     "data": {
      "text/html": [
       "<div>\n",
       "<style scoped>\n",
       "    .dataframe tbody tr th:only-of-type {\n",
       "        vertical-align: middle;\n",
       "    }\n",
       "\n",
       "    .dataframe tbody tr th {\n",
       "        vertical-align: top;\n",
       "    }\n",
       "\n",
       "    .dataframe thead th {\n",
       "        text-align: right;\n",
       "    }\n",
       "</style>\n",
       "<table border=\"1\" class=\"dataframe\">\n",
       "  <thead>\n",
       "    <tr style=\"text-align: right;\">\n",
       "      <th></th>\n",
       "      <th>/</th>\n",
       "      <th>North America</th>\n",
       "      <th>Central America</th>\n",
       "      <th>South America</th>\n",
       "      <th>North Africa</th>\n",
       "      <th>Sub-Saharan Africa</th>\n",
       "      <th>Northern Europe</th>\n",
       "      <th>Western Europe</th>\n",
       "      <th>Southern Europe</th>\n",
       "      <th>Eastern Europe</th>\n",
       "      <th>Central Asia</th>\n",
       "      <th>Western Asia</th>\n",
       "      <th>South Asia</th>\n",
       "      <th>East Asia</th>\n",
       "      <th>South-East Asia</th>\n",
       "      <th>Oceania</th>\n",
       "    </tr>\n",
       "  </thead>\n",
       "  <tbody>\n",
       "    <tr>\n",
       "      <th>0</th>\n",
       "      <td>North America</td>\n",
       "      <td>96102</td>\n",
       "      <td>208668</td>\n",
       "      <td>68240</td>\n",
       "      <td>4253</td>\n",
       "      <td>58827</td>\n",
       "      <td>248379</td>\n",
       "      <td>279267</td>\n",
       "      <td>551959</td>\n",
       "      <td>162959</td>\n",
       "      <td>85259</td>\n",
       "      <td>131288</td>\n",
       "      <td>158</td>\n",
       "      <td>39145</td>\n",
       "      <td>41758</td>\n",
       "      <td>52303</td>\n",
       "    </tr>\n",
       "    <tr>\n",
       "      <th>1</th>\n",
       "      <td>Central America</td>\n",
       "      <td>3233173</td>\n",
       "      <td>215008</td>\n",
       "      <td>36975</td>\n",
       "      <td>390</td>\n",
       "      <td>2414</td>\n",
       "      <td>42572</td>\n",
       "      <td>81356</td>\n",
       "      <td>190931</td>\n",
       "      <td>4962</td>\n",
       "      <td>3145</td>\n",
       "      <td>6236</td>\n",
       "      <td>14</td>\n",
       "      <td>1754</td>\n",
       "      <td>510</td>\n",
       "      <td>7541</td>\n",
       "    </tr>\n",
       "    <tr>\n",
       "      <th>2</th>\n",
       "      <td>South America</td>\n",
       "      <td>394674</td>\n",
       "      <td>26456</td>\n",
       "      <td>600759</td>\n",
       "      <td>417</td>\n",
       "      <td>19431</td>\n",
       "      <td>68645</td>\n",
       "      <td>157063</td>\n",
       "      <td>1200694</td>\n",
       "      <td>18644</td>\n",
       "      <td>5090</td>\n",
       "      <td>32516</td>\n",
       "      <td>351</td>\n",
       "      <td>110426</td>\n",
       "      <td>2035</td>\n",
       "      <td>28490</td>\n",
       "    </tr>\n",
       "    <tr>\n",
       "      <th>3</th>\n",
       "      <td>North Africa</td>\n",
       "      <td>62193</td>\n",
       "      <td>93</td>\n",
       "      <td>692</td>\n",
       "      <td>57855</td>\n",
       "      <td>12512</td>\n",
       "      <td>22807</td>\n",
       "      <td>404765</td>\n",
       "      <td>442162</td>\n",
       "      <td>5437</td>\n",
       "      <td>1382</td>\n",
       "      <td>367718</td>\n",
       "      <td>1</td>\n",
       "      <td>312</td>\n",
       "      <td>340</td>\n",
       "      <td>6858</td>\n",
       "    </tr>\n",
       "    <tr>\n",
       "      <th>4</th>\n",
       "      <td>Sub-Saharan Africa</td>\n",
       "      <td>478694</td>\n",
       "      <td>793</td>\n",
       "      <td>10738</td>\n",
       "      <td>44230</td>\n",
       "      <td>3717881</td>\n",
       "      <td>483736</td>\n",
       "      <td>430954</td>\n",
       "      <td>312329</td>\n",
       "      <td>6442</td>\n",
       "      <td>2724</td>\n",
       "      <td>305291</td>\n",
       "      <td>243</td>\n",
       "      <td>2918</td>\n",
       "      <td>576</td>\n",
       "      <td>149130</td>\n",
       "    </tr>\n",
       "  </tbody>\n",
       "</table>\n",
       "</div>"
      ],
      "text/plain": [
       "                    /  North America  Central America  South America  \\\n",
       "0       North America          96102           208668          68240   \n",
       "1     Central America        3233173           215008          36975   \n",
       "2       South America         394674            26456         600759   \n",
       "3        North Africa          62193               93            692   \n",
       "4  Sub-Saharan Africa         478694              793          10738   \n",
       "\n",
       "   North Africa  Sub-Saharan Africa  Northern Europe  Western Europe  \\\n",
       "0          4253               58827           248379          279267   \n",
       "1           390                2414            42572           81356   \n",
       "2           417               19431            68645          157063   \n",
       "3         57855               12512            22807          404765   \n",
       "4         44230             3717881           483736          430954   \n",
       "\n",
       "   Southern Europe  Eastern Europe  Central Asia  Western Asia  South Asia  \\\n",
       "0           551959          162959         85259        131288         158   \n",
       "1           190931            4962          3145          6236          14   \n",
       "2          1200694           18644          5090         32516         351   \n",
       "3           442162            5437          1382        367718           1   \n",
       "4           312329            6442          2724        305291         243   \n",
       "\n",
       "   East Asia  South-East Asia  Oceania  \n",
       "0      39145            41758    52303  \n",
       "1       1754              510     7541  \n",
       "2     110426             2035    28490  \n",
       "3        312              340     6858  \n",
       "4       2918              576   149130  "
      ]
     },
     "execution_count": 1,
     "metadata": {},
     "output_type": "execute_result"
    }
   ],
   "source": [
    "#On utilise un echantilloneur de Gibbs avec balayage aléatoire\n",
    "import pandas as pd \n",
    "import numpy as np\n",
    "\n",
    "T=pd.read_csv(\"/Users/y.boukhateb/Desktop/Statapp Optimal Transport/Stat-App/DATA/dataset1.csv\")\n",
    "T.drop(T.columns[0], axis=1, inplace=True)\n",
    "N=len(T.columns)-1\n",
    "T.head()"
   ]
  },
  {
   "cell_type": "code",
   "execution_count": 2,
   "metadata": {},
   "outputs": [],
   "source": [
    "T_matrix = T.iloc[:, 1:].values"
   ]
  },
  {
   "cell_type": "code",
   "execution_count": 3,
   "metadata": {},
   "outputs": [],
   "source": [
    "def histogramme(x):\n",
    "    # Normaliser la liste pour que la somme soit égale à 1\n",
    "    somme = np.sum(x)\n",
    "    histogramme = x / somme\n",
    "    return histogramme"
   ]
  },
  {
   "cell_type": "markdown",
   "metadata": {},
   "source": [
    "### Création du code "
   ]
  },
  {
   "cell_type": "code",
   "execution_count": 24,
   "metadata": {},
   "outputs": [
    {
     "ename": "SyntaxError",
     "evalue": "invalid syntax (2979209168.py, line 21)",
     "output_type": "error",
     "traceback": [
      "\u001b[0;36m  Cell \u001b[0;32mIn[24], line 21\u001b[0;36m\u001b[0m\n\u001b[0;31m    for i range(q):\u001b[0m\n\u001b[0m          ^\u001b[0m\n\u001b[0;31mSyntaxError\u001b[0m\u001b[0;31m:\u001b[0m invalid syntax\n"
     ]
    }
   ],
   "source": [
    "import ot\n",
    "sigma=0.04\n",
    "\n",
    "def proba_rejet(u,v,W,x,y,Z,T):\n",
    "    u,v,W=histogramme(u),histogramme(v),histogramme(W)\n",
    "    x,y,Z=histogramme(x),histogramme(y),histogramme(Z)\n",
    "    return 1/(2*sigma**2)*(np.linalg.norm(T-ot.emd(u,v,W))**2-np.linalg.norm(T-ot.emd(x,y,Z))**2)\n",
    "\n",
    "def in_hypercube(u,v,W):\n",
    "    \n",
    "    if any(x < 0 or x > 1 for x in u):\n",
    "        return False\n",
    "    \n",
    "    if any(x < 0 or x > 1 for x in v):\n",
    "        return False\n",
    "    \n",
    "    if any(any(x < 0 or x > 1 for x in row) for row in W):\n",
    "        return False\n",
    "    return True\n",
    "\n"
   ]
  },
  {
   "cell_type": "code",
   "execution_count": 25,
   "metadata": {},
   "outputs": [],
   "source": [
    "# Graine aléatoire\n",
    "np.random.seed(123)\n",
    "\n",
    "# Taille de l'échantillon\n",
    "n = 10**5\n",
    "def MH_gibbs(T):\n",
    "    N=len(T)\n",
    "    # Initialisation\n",
    "    U, V, C = np.zeros((n, N)), np.zeros((n, N)), np.zeros((n, N, N))\n",
    "    U[0] = np.random.uniform(size=N)\n",
    "    V[0] = np.random.uniform(size=N)\n",
    "    C[0, :, :] = np.random.uniform(size=(N, N))\n",
    "    def fix_coord(x):\n",
    "        for i in range(N):\n",
    "            x[i,i]=10\n",
    "        return x\n",
    "    # Vecteurs aléatoires\n",
    "    e_u = np.random.normal(0, 0.02, (N, n))\n",
    "    e_v = np.random.normal(0, 0.02, (N, n))\n",
    "    e_C = np.random.normal(0, 0.04, (N, N, n))\n",
    "    u_u = np.log(np.random.uniform(size=n))\n",
    "    u_v = np.log(np.random.uniform(size=n))\n",
    "    u_c = np.log(np.random.uniform(size=n))\n",
    "\n",
    "    for k in range(n-1):\n",
    "        # Pas pour U\n",
    "        x, y, Z = U[k] + e_u[:, k], V[k], C[k]\n",
    "        if not in_hypercube(x, y, Z):\n",
    "            U[k+1], V[k+1], C[k+1] = U[k], V[k], C[k]\n",
    "        else:\n",
    "            if u_u[k] < proba_rejet(U[k], V[k], C[k], x, y, Z,T):\n",
    "                U[k+1], V[k+1], C[k+1] = x, y, Z\n",
    "            else:\n",
    "                U[k+1], V[k+1], C[k+1] = U[k], V[k], C[k]\n",
    "        UK=U[k+1]\n",
    "        # Pas pour V\n",
    "        x, y, Z = UK, V[k] + e_v[:, k], C[k]\n",
    "        if not in_hypercube(x, y, Z):\n",
    "            U[k+1], V[k+1], C[k+1] = UK, V[k], C[k]\n",
    "        else:\n",
    "            if u_v[k] < proba_rejet(UK, V[k], C[k], x, y, Z,T):\n",
    "                U[k+1], V[k+1], C[k+1] = x, y, Z\n",
    "            else:\n",
    "                U[k+1], V[k+1], C[k+1] = UK, V[k], C[k]\n",
    "        VK=V[k+1]\n",
    "        # Pas pour C\n",
    "        x, y, Z = UK, VK, fix_coord(C[k] + e_C[:, :, k])\n",
    "        if not in_hypercube(x, y, Z):\n",
    "            U[k+1], V[k+1], C[k+1] = UK, VK, C[k]\n",
    "        else:\n",
    "            if u_c[k] < proba_rejet(U[k], V[k], C[k], x, y, Z,T):\n",
    "                U[k+1], V[k+1], C[k+1] = x, y, Z\n",
    "            else:\n",
    "                U[k+1], V[k+1], C[k+1] = UK, VK, C[k]\n",
    "    return U,V,C"
   ]
  },
  {
   "cell_type": "markdown",
   "metadata": {},
   "source": [
    "### Données simulées"
   ]
  },
  {
   "cell_type": "code",
   "execution_count": 26,
   "metadata": {},
   "outputs": [],
   "source": [
    "u=np.array([0.1,0.4,0.5])\n",
    "v=np.array([0.6,0.35,0.05])\n",
    "C=[[10,3,5],[6,10,2],[8,8,10]]\n",
    "T=ot.emd(u,v,C)\n",
    "U,V,W=MH_gibbs(T)"
   ]
  },
  {
   "cell_type": "code",
   "execution_count": 19,
   "metadata": {},
   "outputs": [],
   "source": [
    "a=np.array([0.2,0,0.8])\n",
    "b=np.array([0.3,0.5,0.2])\n",
    "D=[[10,3,5],[6,10,3],[1,0,10]]\n",
    "T=ot.emd(a,b,D)\n",
    "P,O,I=MH_gibbs(T)"
   ]
  },
  {
   "cell_type": "markdown",
   "metadata": {},
   "source": [
    "### Comparaison et affichage des résultats"
   ]
  },
  {
   "cell_type": "code",
   "execution_count": 27,
   "metadata": {},
   "outputs": [
    {
     "name": "stdout",
     "output_type": "stream",
     "text": [
      "[[0.21760111 0.15194244 0.10670385]\n",
      " [0.0869987  0.07614054 0.16175348]\n",
      " [0.09730556 0.01324067 0.08831365]] [[0.16129032 0.0483871  0.08064516]\n",
      " [0.09677419 0.16129032 0.03225806]\n",
      " [0.12903226 0.12903226 0.16129032]] 0.10483870967741934 0.07024479452017159\n"
     ]
    }
   ],
   "source": [
    "M=np.mean(W,axis=0)\n",
    "print(histogramme(M),\n",
    "histogramme(C),\n",
    "ot.emd2(u,v,histogramme(C)),\n",
    "ot.emd2(u,v,histogramme(M)))"
   ]
  },
  {
   "cell_type": "code",
   "execution_count": 20,
   "metadata": {},
   "outputs": [
    {
     "name": "stdout",
     "output_type": "stream",
     "text": [
      "[[0.12844191 0.13253317 0.06903084]\n",
      " [0.11018558 0.11920986 0.11693357]\n",
      " [0.08636198 0.0882168  0.14908629]] [[0.16129032 0.0483871  0.08064516]\n",
      " [0.09677419 0.16129032 0.03225806]\n",
      " [0.12903226 0.12903226 0.16129032]] 0.06 0.09777804671332793\n"
     ]
    }
   ],
   "source": [
    "N=np.mean(I,axis=0)\n",
    "print(histogramme(N),\n",
    "histogramme(C),\n",
    "ot.emd2(u,v,histogramme(D)),\n",
    "ot.emd2(u,v,histogramme(N)))"
   ]
  },
  {
   "cell_type": "code",
   "execution_count": 23,
   "metadata": {},
   "outputs": [
    {
     "name": "stdout",
     "output_type": "stream",
     "text": [
      "[[[0.9807642  0.68482974 0.4809319 ]\n",
      "  [0.39211752 0.34317802 0.72904971]\n",
      "  [0.43857224 0.0596779  0.39804426]]\n",
      "\n",
      " [[0.94265846 0.75103985 0.48012374]\n",
      "  [0.4317363  0.27122706 0.72738501]\n",
      "  [0.4603055  0.02925963 0.47029492]]] [[0.96171133 0.71793479 0.48052782]\n",
      " [0.41192691 0.30720254 0.72821736]\n",
      " [0.44943887 0.04446876 0.43416959]]\n"
     ]
    }
   ],
   "source": [
    "print(W[:2,:,:],np.mean(W[:2,:,:],axis=0))"
   ]
  }
 ],
 "metadata": {
  "kernelspec": {
   "display_name": "base",
   "language": "python",
   "name": "python3"
  },
  "language_info": {
   "codemirror_mode": {
    "name": "ipython",
    "version": 3
   },
   "file_extension": ".py",
   "mimetype": "text/x-python",
   "name": "python",
   "nbconvert_exporter": "python",
   "pygments_lexer": "ipython3",
   "version": "3.11.5"
  }
 },
 "nbformat": 4,
 "nbformat_minor": 2
}
