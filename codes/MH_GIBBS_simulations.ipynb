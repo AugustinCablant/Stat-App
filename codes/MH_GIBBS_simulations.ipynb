{
  "cells": [
    {
      "cell_type": "markdown",
      "metadata": {
        "colab_type": "text",
        "id": "view-in-github"
      },
      "source": [
        "<a href=\"https://colab.research.google.com/github/AugustinCablant/Stat-App/blob/main/MH_GIBBS_simulations.ipynb\" target=\"_parent\"><img src=\"https://colab.research.google.com/assets/colab-badge.svg\" alt=\"Open In Colab\"/></a>"
      ]
    },
    {
      "cell_type": "code",
      "execution_count": 1,
      "metadata": {
        "id": "JjRLKKOijJ05"
      },
      "outputs": [
        {
          "ename": "",
          "evalue": "",
          "output_type": "error",
          "traceback": [
            "\u001b[1;31mLe noyau s’est bloqué lors de l’exécution du code dans une cellule active ou une cellule précédente. \n",
            "\u001b[1;31mVeuillez vérifier le code dans la ou les cellules pour identifier une cause possible de l’échec. \n",
            "\u001b[1;31mCliquez <a href='https://aka.ms/vscodeJupyterKernelCrash'>ici</a> pour plus d’informations. \n",
            "\u001b[1;31mPour plus d’informations, consultez Jupyter <a href='command:jupyter.viewOutput'>log</a>."
          ]
        }
      ],
      "source": [
        "#!pip install POT\n",
        "import ot\n",
        "import numpy as np\n",
        "import matplotlib.pyplot as plt\n",
        "\n",
        "sigma=0.04\n",
        "np.random.seed(123)\n",
        "\n",
        "def proba_rejet(u,v,W,x,y,Z,T):\n",
        "    u,v,W=histogramme(u),histogramme(v),histogramme(W)\n",
        "    x,y,Z=histogramme(x),histogramme(y),histogramme(Z)\n",
        "    return 1/(2*sigma**2)*(np.linalg.norm(T-ot.emd(u,v,W))**2-np.linalg.norm(T-ot.emd(x,y,Z))**2)\n",
        "\n",
        "def in_hypercube(u,v,W):\n",
        "\n",
        "    if any(x < 0 or x > 1 for x in u):\n",
        "        return False\n",
        "\n",
        "    if any(x < 0 or x > 1 for x in v):\n",
        "        return False\n",
        "\n",
        "    if any(any(x < 0 or x > 1 for x in row) for row in W):\n",
        "        return False\n",
        "    return True\n",
        "\n",
        "def histogramme(x):\n",
        "    # Normaliser la liste pour que la somme soit égale à 1\n",
        "    somme = np.sum(x)\n",
        "    histogramme = x / somme\n",
        "    return histogramme\n",
        "\n",
        "n = 10**6\n",
        "def MH_gibbs(T):\n",
        "    N = len(T)\n",
        "    # Initialisation\n",
        "    U, V, C = np.zeros((n, N)), np.zeros((n, N)), np.zeros((n, N, N))\n",
        "    U[0] = np.random.uniform(size=N)\n",
        "    V[0] = np.random.uniform(size=N)\n",
        "    C[0, :, :] = np.random.uniform(size=(N, N))\n",
        "    def fix_coord(x):\n",
        "        for i in range(N): x[i,i]=10\n",
        "        return x\n",
        "    # Vecteurs aléatoires\n",
        "    e_u, e_v,e_C  = np.random.normal(0, 0.02, (N, n)), np.random.normal(0, 0.02, (N, n)), np.random.normal(0, 0.04, (N, N, n))\n",
        "    u_u, u_v, u_c  = np.log(np.random.uniform(size=n)), np.log(np.random.uniform(size=n)), np.log(np.random.uniform(size=n))\n",
        "\n",
        "    acceptance_rate = 0\n",
        "    running_average = np.zeros(n)\n",
        "\n",
        "    for k in range(n-1):\n",
        "        # Pas pour U\n",
        "        x, y, Z = U[k] + e_u[:, k], V[k], C[k]\n",
        "        if not in_hypercube(x, y, Z): U[k+1], V[k+1], C[k+1] = U[k], V[k], C[k]\n",
        "        else:\n",
        "            if u_u[k] < proba_rejet(U[k], V[k], C[k], x, y, Z,T):\n",
        "                U[k+1], V[k+1], C[k+1] = x, y, Z\n",
        "                acceptance_rate += 1\n",
        "            else: U[k+1], V[k+1], C[k+1] = U[k], V[k], C[k]\n",
        "        UK=U[k+1]\n",
        "        # Pas pour V\n",
        "        x, y, Z = UK, V[k] + e_v[:, k], C[k]\n",
        "        if not in_hypercube(x, y, Z): U[k+1], V[k+1], C[k+1] = UK, V[k], C[k]\n",
        "        else:\n",
        "            if u_v[k] < proba_rejet(UK, V[k], C[k], x, y, Z,T):\n",
        "                U[k+1], V[k+1], C[k+1] = x, y, Z\n",
        "                acceptance_rate += 1\n",
        "            else: U[k+1], V[k+1], C[k+1] = UK, V[k], C[k]\n",
        "        VK=V[k+1]\n",
        "        # Pas pour C\n",
        "        x, y, Z = UK, VK, fix_coord(C[k] + e_C[:, :, k])\n",
        "        if not in_hypercube(x, y, Z):\n",
        "            U[k+1], V[k+1], C[k+1] = UK, VK, C[k]\n",
        "        else:\n",
        "            if u_c[k] < proba_rejet(U[k], V[k], C[k], x, y, Z,T):\n",
        "                U[k+1], V[k+1], C[k+1] = x, y, Z\n",
        "                acceptance_rate += 1\n",
        "            else: U[k+1], V[k+1], C[k+1] = UK, VK, C[k]\n",
        "\n",
        "        # Calcul du running average\n",
        "        running_average[k+1] = ((k+1) * running_average[k] + acceptance_rate) / (k+2)\n",
        "\n",
        "    acceptance_rate /= (3 * n)\n",
        "    return U, V, C, acceptance_rate, running_average"
      ]
    },
    {
      "cell_type": "code",
      "execution_count": null,
      "metadata": {
        "id": "r4osliTIl1Bc"
      },
      "outputs": [],
      "source": [
        "T = np.random.uniform(size=(3, 3))\n",
        "\n",
        "# Simulation\n",
        "U, V, C, acceptance_rate, running_average = MH_gibbs(T)\n",
        "\n",
        "# Trace plot pour U\n",
        "plt.figure(figsize=(10, 6))\n",
        "for i in range(len(U[0])):\n",
        "    plt.plot(U[:, i], label=f\"U[{i}]\")\n",
        "plt.title(\"Trace Plot pour U\")\n",
        "plt.xlabel(\"Iteration\")\n",
        "plt.ylabel(\"Valeur\")\n",
        "plt.legend()\n",
        "plt.show()\n",
        "\n",
        "# Trace plot pour V\n",
        "plt.figure(figsize=(10, 6))\n",
        "for i in range(len(U[0])):\n",
        "    plt.plot(V[:, i], label=f\"V[{i}]\")\n",
        "plt.title(\"Trace Plot pour V\")\n",
        "plt.xlabel(\"Iteration\")\n",
        "plt.ylabel(\"Valeur\")\n",
        "plt.legend()\n",
        "plt.show()\n",
        "\n",
        "print(f\"Taux d'acceptation : {acceptance_rate}\")\n",
        "print(\"Running average :\", running_average)\n"
      ]
    }
  ],
  "metadata": {
    "colab": {
      "authorship_tag": "ABX9TyPx6/nSRfvXRdCUcajgfUme",
      "include_colab_link": true,
      "provenance": []
    },
    "kernelspec": {
      "display_name": "Python 3",
      "name": "python3"
    },
    "language_info": {
      "codemirror_mode": {
        "name": "ipython",
        "version": 3
      },
      "file_extension": ".py",
      "mimetype": "text/x-python",
      "name": "python",
      "nbconvert_exporter": "python",
      "pygments_lexer": "ipython3",
      "version": "3.9.12"
    }
  },
  "nbformat": 4,
  "nbformat_minor": 0
}
