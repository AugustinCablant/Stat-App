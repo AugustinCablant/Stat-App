{
 "cells": [
  {
   "cell_type": "code",
   "execution_count": 2,
   "id": "622ed54c-d3ff-45aa-a9f3-63048d240a57",
   "metadata": {},
   "outputs": [],
   "source": [
    "import ot\n",
    "import numpy as np\n",
    "import matplotlib.pyplot as plt\n",
    "\n",
    "s = 0.04\n",
    "n = 40000"
   ]
  },
  {
   "cell_type": "code",
   "execution_count": 3,
   "id": "e682afc7-4522-487d-a6a2-9cf37376e21d",
   "metadata": {},
   "outputs": [],
   "source": [
    "def proba_rejet(u, v, W, x, y, Z, T1, T2, T3, T4):\n",
    "    u,v,W = histogramme(u), histogramme(v), histogramme(W)\n",
    "    x,y,Z = histogramme(x), histogramme(y), histogramme(Z)\n",
    "    S1 = np.linalg.norm(T1-ot.emd(u, v, W))**2-np.linalg.norm(T1-ot.emd(x, y, Z))**2\n",
    "    S2 = np.linalg.norm(T2-ot.emd(u, v, W))**2-np.linalg.norm(T2-ot.emd(x, y, Z))**2\n",
    "    S3 = np.linalg.norm(T3-ot.emd(u, v, W))**2-np.linalg.norm(T3-ot.emd(x, y, Z))**2\n",
    "    S4 = np.linalg.norm(T4-ot.emd(u, v, W))**2-np.linalg.norm(T4-ot.emd(x, y, Z))**2\n",
    "    return 1/(2*s**2)*(S1 + S2 + S3 + S4)\n",
    "\n",
    "def in_hypercube(u,v,W):\n",
    "\n",
    "    if any(x < 0 or x > 1 for x in u):\n",
    "        return False\n",
    "\n",
    "    if any(x < 0 or x > 1 for x in v):\n",
    "        return False\n",
    "\n",
    "    if any(any(x < 0 or x > 1 for x in row) for row in W):\n",
    "        return False\n",
    "    \n",
    "    return True\n",
    "\n",
    "def histogramme(x):\n",
    "    # Normaliser la liste pour que la somme soit égale à 1\n",
    "    somme = np.sum(x)\n",
    "    histogramme = x / somme\n",
    "    return histogramme\n",
    "\n",
    "\n",
    "def MH_gibbs(T1, T2, T3, T4):\n",
    "    N = len(T1)\n",
    "    # Initialisation\n",
    "    U, V, C = np.zeros((n, N)), np.zeros((n, N)), np.zeros((n, N, N))\n",
    "    U[0] = np.random.uniform(size=N)\n",
    "    V[0] = np.random.uniform(size=N)\n",
    "    C[0, :, :] = np.random.uniform(size=(N, N))\n",
    "    def fix_coord(x):\n",
    "        for i in range(N): x[i,i]=10\n",
    "        return x\n",
    "    # Vecteurs aléatoires\n",
    "    e_u, e_v, e_C  = np.random.normal(0, 0.01, (N, n)), np.random.normal(0, 0.01, (N, n)), np.random.normal(0, 0.01, (N, N, n))\n",
    "    u_u, u_v, u_c  = np.log(np.random.uniform(size=n)), np.log(np.random.uniform(size=n)), np.log(np.random.uniform(size=n))\n",
    "\n",
    "    acceptance_rate_u = 0\n",
    "    acceptance_rate_v=0\n",
    "    acceptance_rate_C=0\n",
    "\n",
    "    running_average_U = [U[0]]\n",
    "    running_average_V = [V[0]]\n",
    "    running_average_C = [C[0]]\n",
    "\n",
    "    for k in range(n-1):\n",
    "        # Pas pour U\n",
    "        x, y, Z = U[k] + e_u[:, k], V[k], C[k]\n",
    "        if not in_hypercube(x, y, Z): U[k+1], V[k+1], C[k+1] = U[k], V[k], C[k]\n",
    "        else:\n",
    "            if u_u[k] < proba_rejet(U[k], V[k], C[k], x, y, Z, T1, T2, T3, T4):\n",
    "                U[k+1], V[k+1], C[k+1] = x, y, Z\n",
    "                acceptance_rate_u += 1\n",
    "            else: U[k+1], V[k+1], C[k+1] = U[k], V[k], C[k]\n",
    "        UK=U[k+1]\n",
    "        # Pas pour V\n",
    "        x, y, Z = UK, V[k] + e_v[:, k], C[k]\n",
    "        if not in_hypercube(x, y, Z): U[k+1], V[k+1], C[k+1] = UK, V[k], C[k]\n",
    "        else:\n",
    "            if u_v[k] < proba_rejet(UK, V[k], C[k], x, y, Z, T1, T2, T3, T4):\n",
    "                U[k+1], V[k+1], C[k+1] = x, y, Z\n",
    "                acceptance_rate_v += 1\n",
    "            else: U[k+1], V[k+1], C[k+1] = UK, V[k], C[k]\n",
    "        VK=V[k+1]\n",
    "        # Pas pour C\n",
    "        x, y, Z = UK, VK, C[k] + e_C[:, :, k]\n",
    "        if not in_hypercube(x, y, Z):\n",
    "            U[k+1], V[k+1], C[k+1] = UK, VK, C[k]\n",
    "        else:\n",
    "            if u_c[k] < proba_rejet(U[k], V[k], C[k], x, y, Z, T1, T2, T3, T4):\n",
    "                U[k+1], V[k+1], C[k+1] = x, y, Z\n",
    "                acceptance_rate_C += 1\n",
    "            else: U[k+1], V[k+1], C[k+1] = UK, VK, C[k]\n",
    "\n",
    "        # Calcul du running average\n",
    "        running_average_U.append((U[k+1]+U[k])*(k/(k+1)))\n",
    "        running_average_V.append((V[k+1]+V[k])*(k/(k+1)))\n",
    "        running_average_C.append((C[k+1]+C[k])*(k/(k+1)))\n",
    "\n",
    "    acceptance_rate_u /= n\n",
    "    acceptance_rate_v /= n\n",
    "    acceptance_rate_C /= n\n",
    "    return U, V, C, acceptance_rate_u, acceptance_rate_v, acceptance_rate_C, running_average_U, running_average_V, running_average_C"
   ]
  },
  {
   "cell_type": "code",
   "execution_count": null,
   "id": "25cf1a54-df09-4cbb-97c9-4ee5b316b9d8",
   "metadata": {},
   "outputs": [],
   "source": [
    "np.random.seed(123)\n",
    "\n",
    "u = np.random.random(5)\n",
    "v = np.random.random(5)\n",
    "W = np.random.uniform(size=(5, 5))\n",
    "\n",
    "u, v, W = histogramme(u), histogramme(v), histogramme(W)\n",
    "\n",
    "T = ot.emd(u, v, W)\n",
    "\n",
    "T1 = T + np.random.randn(5, 5) * s\n",
    "T2 = T + np.random.randn(5, 5) * s\n",
    "T3 = T + np.random.randn(5, 5) * s\n",
    "T4 = T + np.random.randn(5, 5) * s\n",
    "\n",
    "# Simulation\n",
    "U, V, C, acceptance_rate_u, acceptance_rate_v, acceptance_rate_C, running_average_U, running_average_V, running_average_C = MH_gibbs(T1, T2, T3, T4)\n",
    "\n",
    "# Trace plot pour U\n",
    "plt.figure(figsize=(10, 6))\n",
    "for i in range(len(U[0])):\n",
    "    plt.plot(U[:, i], label=f\"U[{i}]\")\n",
    "plt.title(\"Trace Plot pour U\")\n",
    "plt.xlabel(\"Iteration\")\n",
    "plt.ylabel(\"Valeur\")\n",
    "plt.legend()\n",
    "plt.show()\n",
    "\n",
    "# Trace plot pour V\n",
    "plt.figure(figsize=(10, 6))\n",
    "for i in range(len(U[0])):\n",
    "    plt.plot(V[:, i], label=f\"V[{i}]\")\n",
    "plt.title(\"Trace Plot pour V\")\n",
    "plt.xlabel(\"Iteration\")\n",
    "plt.ylabel(\"Valeur\")\n",
    "plt.legend()\n",
    "plt.show()\n",
    "\n",
    "plt.figure(figsize=(10, 6))\n",
    "for i in range(len(C[0])):\n",
    "    plt.plot(C[:, i, 0], label=f\"C[{i}][{0}]\")\n",
    "plt.title(\"Trace Plot pour C\")\n",
    "plt.xlabel(\"Iteration\")\n",
    "plt.ylabel(\"Valeur\")\n",
    "plt.legend()\n",
    "plt.show()\n",
    "\n",
    "\n",
    "print(f\"Taux d'acceptation pour U : {acceptance_rate_u}\")\n",
    "print(f\"Taux d'acceptation pour V : {acceptance_rate_v}\")\n",
    "print(f\"Taux d'acceptation pour C : {acceptance_rate_C}\")"
   ]
  },
  {
   "cell_type": "code",
   "execution_count": 34,
   "id": "f8de3f90-df31-45b9-947f-c38444b480b5",
   "metadata": {},
   "outputs": [
    {
     "name": "stdout",
     "output_type": "stream",
     "text": [
      "[0.28080675 0.11536743 0.09146337 0.2222825  0.29007995] [0.29673108 0.13968273 0.082976   0.2200763  0.26053388]\n"
     ]
    }
   ],
   "source": [
    "print(u, running_average_U[-1]/np.sum(running_average_U[-1]))"
   ]
  },
  {
   "cell_type": "code",
   "execution_count": 35,
   "id": "630de9a0-8f9b-4774-b6ad-f46e96d69408",
   "metadata": {},
   "outputs": [
    {
     "name": "stdout",
     "output_type": "stream",
     "text": [
      "[0.14285692 0.3311435  0.23122471 0.162381   0.13239387] [0.11211139 0.33981504 0.228224   0.21010884 0.10974073]\n"
     ]
    }
   ],
   "source": [
    "print(v, running_average_V[-1]/np.sum(running_average_V[-1]))"
   ]
  },
  {
   "cell_type": "code",
   "execution_count": 1,
   "id": "b6a77ae5-0c49-4b34-b4b0-f58170578e83",
   "metadata": {},
   "outputs": [
    {
     "ename": "NameError",
     "evalue": "name 'W' is not defined",
     "output_type": "error",
     "traceback": [
      "\u001b[0;31m---------------------------------------------------------------------------\u001b[0m",
      "\u001b[0;31mNameError\u001b[0m                                 Traceback (most recent call last)",
      "Cell \u001b[0;32mIn[1], line 1\u001b[0m\n\u001b[0;32m----> 1\u001b[0m \u001b[38;5;28mprint\u001b[39m(\u001b[43mW\u001b[49m, running_average_C[\u001b[38;5;241m-\u001b[39m\u001b[38;5;241m1\u001b[39m]\u001b[38;5;241m/\u001b[39mnp\u001b[38;5;241m.\u001b[39msum(running_average_C[\u001b[38;5;241m-\u001b[39m\u001b[38;5;241m1\u001b[39m]))\n",
      "\u001b[0;31mNameError\u001b[0m: name 'W' is not defined"
     ]
    }
   ],
   "source": [
    "print(W, running_average_C[-1]/np.sum(running_average_C[-1]))"
   ]
  },
  {
   "cell_type": "code",
   "execution_count": null,
   "id": "339f15f3-b0fb-4c53-968d-899fd1fdcd83",
   "metadata": {},
   "outputs": [],
   "source": []
  }
 ],
 "metadata": {
  "kernelspec": {
   "display_name": "Python 3 (ipykernel)",
   "language": "python",
   "name": "python3"
  },
  "language_info": {
   "codemirror_mode": {
    "name": "ipython",
    "version": 3
   },
   "file_extension": ".py",
   "mimetype": "text/x-python",
   "name": "python",
   "nbconvert_exporter": "python",
   "pygments_lexer": "ipython3",
   "version": "3.11.6"
  }
 },
 "nbformat": 4,
 "nbformat_minor": 5
}
