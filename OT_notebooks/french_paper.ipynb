{
 "cells": [
  {
   "cell_type": "markdown",
   "metadata": {},
   "source": [
    "# Résumé du papier en Français. "
   ]
  },
  {
   "cell_type": "markdown",
   "metadata": {},
   "source": [
    "## Introduction \n",
    "\n",
    "Nous illustrons les méthodologies développées à l'aide de l'exemple des flux migratoires internationaux. Les données relatives aux flux migratoires recensent (de manière bruyante) le nombre d'individus se déplaçant d'un pays à l'autre au cours d'une période donnée. Elles peuvent être interprétées comme une observation bruyante d'une carte de transport optimale, dont les coûts sont liés à la position géographique des pays. Nous utilisons une formulation du problème basée sur les graphes, avec les pays aux nœuds des graphes et des adjacences pondérées non nulles uniquement sur les arêtes entre les pays qui partagent une frontière. Nous utilisons l'algorithme proposé pour estimer les poids, qui représentent le coût de la transition, et pour quantifier l'incertitude de ces poids.\n",
    "\n",
    "Deux types de statistiques migratoires sont généralement collectés : les données sur les flux et les données sur les stocks. Les données sur les stocks de migrants indiquent le nombre de personnes nées à l'étranger présentes dans un pays à un moment donné et sont généralement basées sur les recensements de la population. Les données sur les stocks sont disponibles pour presque tous les pays du monde. Les données sur les flux migratoires saisissent le nombre de migrants qui entrent dans un pays et qui le quittent (respectivement les entrées et les sorties) au cours d'une période donnée, par exemple une année, voir un an. Elles sont collectées par la plupart des pays développés, mais aucune norme internationale n'est définie. "
   ]
  },
  {
   "cell_type": "markdown",
   "metadata": {},
   "source": [
    "## Le Transport optimal en bref \n",
    "\n",
    "Étant donné deux mesures positives (de masse égale) et une fonction de coût, trouver la carte de transport qui permet de déplacer une mesure vers l'autre en minimisant le coût de transport. L'infimum correspondant induit une distance entre ces deux mesures, appelée distance de Wasserstein. La distance de Wasserstein joue un rôle important dans la théorie des probabilités, les équations différentielles partielles (EDP) et de nombreux autres domaines des mathématiques appliquées.\n",
    "\n",
    "Distance de Wasserstein : Soit $(X,d)$ un espace polonais muni de sa tribu borélienne. Soit $p \\in [0, + \\infty [$ et $ \\mu, \\nu $ deux mesures de probabilité sur $X$. La distance de Wasserstein d'ordre $p$ entre $ \\mu$ et $ \\nu $ est : $ W_p (\\mu , \\nu ) := ( \\inf _{ \\pi \\in \\Pi (\\mu , \\nu )}\\displaystyle \\int _{ X \\text{x} X} d(x,y) ^{p} d \\pi (x,y))^{1/p}$. "
   ]
  },
  {
   "cell_type": "markdown",
   "metadata": {},
   "source": []
  },
  {
   "cell_type": "markdown",
   "metadata": {},
   "source": []
  }
 ],
 "metadata": {
  "language_info": {
   "name": "python"
  }
 },
 "nbformat": 4,
 "nbformat_minor": 2
}
