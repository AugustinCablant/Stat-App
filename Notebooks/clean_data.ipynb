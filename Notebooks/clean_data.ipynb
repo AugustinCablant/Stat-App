{
 "cells": [
  {
   "cell_type": "code",
   "execution_count": 76,
   "metadata": {},
   "outputs": [],
   "source": [
    "import pandas as pd \n",
    "import numpy as np \n",
    "import matplotlib.pyplot as plt \n",
    "import seaborn as sns \n",
    "import os\n",
    "from functools import reduce"
   ]
  },
  {
   "cell_type": "markdown",
   "metadata": {},
   "source": [
    "# CLEAN DATA\n",
    "\n",
    "- Dataset1 : Bilateral flow estimates by region, 2005-10. This is a 15*15 matrix stored as an Excel file. Regions that are concerned : North America, Central America, South America, North Africa, Sub-Saharan Africa, Northern Europe, Western Europe, Southern Europe, Eastern Europe, Central Asia, Western Asia, South Asia, East Asia, South-East Asia, and Oceania. \n",
    "\n",
    "- Dataset2 : Bilateral flow estimates by country, 1990-95 to 2005- 10. This is a 196*196 matrix stored as an Excel file. The 196 countries are indicated by their iso-3 code."
   ]
  },
  {
   "cell_type": "code",
   "execution_count": 110,
   "metadata": {},
   "outputs": [],
   "source": [
    "os.chdir('/Users/augustincablant/Documents/GitHub/Stat-App')\n",
    "df1 = pd.read_excel('DATA/dataset1.xlsx', sheet_name = \"flow estimates by region 2005\")\n",
    "df2_90_95 = pd.read_excel('DATA/dataset2.xlsx', sheet_name= '1990-95')\n",
    "df2_95_00 = pd.read_excel('DATA/dataset2.xlsx', sheet_name= '1995-2000')\n",
    "df2_2000_05 = pd.read_excel('DATA/dataset2.xlsx', sheet_name= '2000-05')\n",
    "df2_2005_10 = pd.read_excel('DATA/dataset2.xlsx', sheet_name= '2005-10')"
   ]
  },
  {
   "cell_type": "markdown",
   "metadata": {},
   "source": [
    "### Define a function to review the dataset format"
   ]
  },
  {
   "cell_type": "code",
   "execution_count": 105,
   "metadata": {},
   "outputs": [],
   "source": [
    "# First dataset\n",
    "def clean1(dataframe):\n",
    "    columns = ['/', 'North America', 'Central America', 'South America', 'North Africa', 'Sub-Saharan Africa', 'Northern Europe', 'Western Europe', \n",
    "               'Southern Europe', 'Eastern Europe', 'Central Asia', 'Western Asia', 'South Asia', 'East Asia', 'South-East Asia', 'Oceania']\n",
    "    dataframe.drop('Unnamed: 0', axis = 1, inplace = True)\n",
    "    dataframe.columns = columns \n",
    "    return dataframe[1:]\n",
    "dataset1 = clean1(df1)\n",
    "#dataset1.to_csv('DATA/dataset1.csv')"
   ]
  },
  {
   "cell_type": "code",
   "execution_count": 111,
   "metadata": {},
   "outputs": [],
   "source": [
    "# Second dataset \n",
    "\n",
    "# Get the iso code\n",
    "iso = ['ABW', 'AFG', 'AGO', 'ALB', 'ARE', 'ARG', 'ARM', 'AUS', 'AUT', 'AZE', 'BDI', 'BEL', 'BEN', 'BFA', 'BGD', 'BGR',\n",
    "        'BHR', 'BHS', 'BIH', 'BLR', 'BLZ', 'BOL', 'BRA', 'BRB', 'BRN','BTN', 'BWA', 'CAF', 'CAN', 'CHE', 'CHI', 'CHL', 'CHN', 'CIV',\n",
    "        'CMR', 'COD', 'COG', 'COL', 'COM', 'CPV', 'CRI', 'CUB', 'CYP', 'CZE', 'DEU', 'DJI', 'DNK', 'DOM', 'DZA', 'ECU', 'EGY', 'ERI', \n",
    "        'ESH', 'ESP', 'EST', 'ETH', 'FIN', 'FJI', 'FRA', 'FSM', 'GAB', 'GBR', 'GEO', 'GHA', 'GIN', 'GLP', 'GMB', 'GNB', 'GNQ', 'GRC',\n",
    "        'GRD', 'GTM', 'GUF', 'GUM', 'GUY', 'HKG', 'HND', 'HRV', 'HTI', 'HUN', 'IDN', 'IND', 'IRL', 'IRN', 'IRQ', 'ISL', 'ISR', 'ITA',\n",
    "        'JAM', 'JOR', 'JPN', 'KAZ', 'KEN', 'KGZ', 'KHM', 'KOR', 'KWT', 'LAO', 'LBN', 'LBR', 'LBY', 'LCA', 'LKA', 'LSO', 'LTU', 'LUX',\n",
    "        'LVA', 'MAC', 'MAR', 'MDA', 'MDG', 'MDV', 'MEX', 'MKD', 'MLI', 'MLT', 'MMR', 'MNE', 'MNG', 'MOZ', 'MRT', 'MTQ', 'MUS', 'MWI',\n",
    "        'MYS', 'MYT', 'NAM', 'NCL', 'NER', 'NGA', 'NIC', 'NLD', 'NOR', 'NPL', 'NZL', 'OMN', 'PAK', 'PAN', 'PER', 'PHL', 'PNG', 'POL',\n",
    "        'PRI', 'PRK', 'PRT', 'PRY', 'PSE', 'PYF', 'QAT', 'REU', 'ROU', 'RUS', 'RWA', 'SAU', 'SDN', 'SEN', 'SGP', 'SLB', 'SLE', 'SLV',\n",
    "        'SOM', 'SRB', 'SSD', 'STP', 'SUR', 'SVK', 'SVN', 'SWE', 'SWZ', 'SYR', 'TCD', 'TGO', 'THA', 'TJK', 'TKM', 'TLS', 'TON', 'TTO',\n",
    "        'TUN', 'TUR', 'TZA', 'UGA', 'UKR', 'URY', 'USA', 'UZB', 'VCT', 'VEN', 'VIR', 'VNM', 'VUT', 'WSM', 'YEM', 'ZAF', 'ZMB', 'ZWE']\n",
    "\n",
    "# Name of the countires \n",
    "countries = ['Aruba', 'Afghanistan', 'Angola', 'Albania',\n",
    "        'United Arab Emirates', 'Argentina', 'Armenia', 'Australia',\n",
    "        'Austria', 'Azerbaijan', 'Burundi', 'Belgium', 'Benin',\n",
    "        'Burkina Faso', 'Bangladesh', 'Bulgaria', 'Bahrain', 'Bahamas',\n",
    "        'Bosnia and Herzegovina', 'Belarus', 'Belize', 'Bolivia',\n",
    "        'Brazil', 'Barbados', 'Brunei', 'Bhutan', 'Botswana',\n",
    "        'Central African Republic', 'Canada', 'Switzerland',\n",
    "        'Channel Islands', 'Chile', 'China', 'Ivory Coast', 'Cameroon',\n",
    "        'Democratic Republic of the Congo', 'Republic of Congo',\n",
    "        'Colombia', 'Comoros', 'Cape Verde', 'Costa Rica', 'Cuba',\n",
    "        'Cyprus', 'Czech Republic', 'Germany', 'Djibouti', 'Denmark',\n",
    "        'Dominican Republic', 'Algeria', 'Ecuador', 'Egypt', 'Eritrea',\n",
    "        'Western Sahara', 'Spain', 'Estonia', 'Ethiopia', 'Finland',\n",
    "        'Fiji', 'France', 'Micronesia', 'Gabon', 'United Kingdom',\n",
    "        'Georgia', 'Ghana', 'Guinea', 'Guadeloupe', 'Gambia',\n",
    "        'Guinea-Bissau', 'Equatorial Guinea', 'Greece', 'Grenada',\n",
    "        'Guatemala', 'French Guiana', 'Guam', 'Guyana', 'Hong Kong',\n",
    "        'Honduras', 'Croatia', 'Haiti', 'Hungary', 'Indonesia', 'India',\n",
    "        'Ireland', 'Iran', 'Iraq', 'Iceland', 'Israel', 'Italy',\n",
    "        'Jamaica', 'Jordan', 'Japan', 'Kazakhstan', 'Kenya',\n",
    "        'Kyrgyzstan', 'Cambodia', 'South Korea', 'Kuwait', 'Laos',\n",
    "        'Lebanon', 'Liberia', 'Libya', 'Saint Lucia', 'Sri Lanka',\n",
    "        'Lesotho', 'Lithuania', 'Luxembourg', 'Latvia', 'Macao',\n",
    "        'Morocco', 'Moldova', 'Madagascar', 'Maldives', 'Mexico',\n",
    "        'Macedonia', 'Mali', 'Malta', 'Myanmar', 'Montenegro',\n",
    "        'Mongolia', 'Mozambique', 'Mauritania', 'Martinique',\n",
    "        'Mauritius', 'Malawi', 'Malaysia', 'Mayotte', 'Namibia',\n",
    "        'New Caledonia', 'Niger', 'Nigeria', 'Nicaragua', 'Netherlands',\n",
    "        'Norway', 'Nepal', 'New Zealand', 'Oman', 'Pakistan', 'Panama',\n",
    "        'Peru', 'Philippines', 'Papua New Guinea', 'Poland',\n",
    "        'Puerto Rico', 'North Korea', 'Portugal', 'Paraguay',\n",
    "        'Palestine', 'French Polynesia', 'Qatar', 'Reunion', 'Romania',\n",
    "        'Russia', 'Rwanda', 'Saudi Arabia', 'Sudan', 'Senegal',\n",
    "        'Singapore', 'Solomon Islands', 'Sierra Leone', 'El Salvador',\n",
    "        'Somalia', 'Serbia', 'South Sudan', 'Sao Tome and Principe',\n",
    "        'Suriname', 'Slovakia', 'Slovenia', 'Sweden', 'Swaziland',\n",
    "        'Syria', 'Chad', 'Togo', 'Thailand', 'Tajikistan',\n",
    "        'Turkmenistan', 'East Timor', 'Tonga', 'Trinidad and Tobago',\n",
    "        'Tunisia', 'Turkey', 'Tanzania', 'Uganda', 'Ukraine', 'Uruguay',\n",
    "        'United States', 'Uzbekistan',\n",
    "        'Saint Vincent and the Grenadines', 'Venezuela',\n",
    "        'Virgin Islands', 'Vietnam', 'Vanuatu', 'Samoa', 'Yemen',\n",
    "        'South Africa', 'Zambia', 'Zimbabwe']\n",
    "\n",
    "dico = dict(zip(iso, countries))\n",
    "\n",
    "def clean2(dataframe): \n",
    "    period = list(dataframe.columns)[1]\n",
    "    columns = [period] + iso + ['TOTAL']\n",
    "    dataframe.drop(['Unnamed: 0',period], axis = 1, inplace = True)\n",
    "    dataframe.columns = columns\n",
    "    return dataframe[2:]\n",
    "\n",
    "df2_90_95 = clean2(df2_90_95)\n",
    "df2_95_00 = clean2(df2_95_00)\n",
    "df2_2000_05 = clean2(df2_2000_05)\n",
    "df2_2005_10 = clean2(df2_2005_10)"
   ]
  },
  {
   "cell_type": "code",
   "execution_count": 119,
   "metadata": {},
   "outputs": [],
   "source": [
    "# Create a unique dataset\n",
    "dataset2 = reduce(lambda x, y: x.add(y), [df2_90_95, df2_95_00, df2_2000_05, df2_2005_10])"
   ]
  },
  {
   "cell_type": "code",
   "execution_count": 125,
   "metadata": {},
   "outputs": [],
   "source": [
    "dataset2.to_csv('DATA/dataset2.csv')\n",
    "df2_90_95.to_csv('DATA/dataset2_90_95.csv')\n",
    "df2_95_00.to_csv('DATA/dataset2_95_00.csv')\n",
    "df2_2000_05.to_csv('DATA/dataset2_00_05.csv')\n",
    "df2_2005_10.to_csv('DATA/dataset2_05_10.csv')"
   ]
  }
 ],
 "metadata": {
  "kernelspec": {
   "display_name": "base",
   "language": "python",
   "name": "python3"
  },
  "language_info": {
   "codemirror_mode": {
    "name": "ipython",
    "version": 3
   },
   "file_extension": ".py",
   "mimetype": "text/x-python",
   "name": "python",
   "nbconvert_exporter": "python",
   "pygments_lexer": "ipython3",
   "version": "3.9.12"
  }
 },
 "nbformat": 4,
 "nbformat_minor": 2
}
